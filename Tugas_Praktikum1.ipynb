{
 "cells": [
  {
   "cell_type": "code",
   "execution_count": 4,
   "metadata": {},
   "outputs": [
    {
     "name": "stdout",
     "output_type": "stream",
     "text": [
      "hallo world\n"
     ]
    }
   ],
   "source": [
    "print(\"hallo world\")"
   ]
  },
  {
   "cell_type": "code",
   "execution_count": 8,
   "metadata": {},
   "outputs": [],
   "source": [
    "# tugas 1 Faktorial Bilangan\n",
    "def factorial(n):\n",
    "    return 1 if (n==1 or n==0) else n * factorial(n-1)\n",
    "num = 8\n",
    "\n",
    "print(\"Factorial of\",num,\"is\", factorial(num))\n",
    "    \n",
    "\n"
   ]
  },
  {
   "cell_type": "code",
   "execution_count": 28,
   "metadata": {},
   "outputs": [
    {
     "name": "stdout",
     "output_type": "stream",
     "text": [
      "Bilangan Fibonacci:\n",
      "0\n",
      "1\n",
      "1\n",
      "2\n",
      "3\n",
      "5\n",
      "8\n",
      "13\n",
      "21\n",
      "34\n",
      "55\n",
      "89\n",
      "144\n"
     ]
    }
   ],
   "source": [
    "# tugas 2 Fibonacci\n",
    "def Fibo(n):\n",
    "    if n <= 1:\n",
    "        return n\n",
    "    else:\n",
    "        return Fibo(n-1) + Fibo(n-2)\n",
    "n = 13\n",
    "if n <= 0:\n",
    "    print(\"please enter a positive integer\")\n",
    "else:\n",
    "    print(\"Bilangan Fibonacci:\")\n",
    "    for i in range(n):\n",
    "        print(Fibo(i))"
   ]
  },
  {
   "cell_type": "code",
   "execution_count": 29,
   "metadata": {},
   "outputs": [
    {
     "name": "stdout",
     "output_type": "stream",
     "text": [
      "Masukan bilangan : 13\n",
      "13 adalah bilangan prima\n",
      "13 adalah bilangan prima\n",
      "13 adalah bilangan prima\n",
      "13 adalah bilangan prima\n",
      "13 adalah bilangan prima\n",
      "13 adalah bilangan prima\n",
      "13 adalah bilangan prima\n",
      "13 adalah bilangan prima\n",
      "13 adalah bilangan prima\n",
      "13 adalah bilangan prima\n",
      "13 adalah bilangan prima\n"
     ]
    }
   ],
   "source": [
    "# tugas 3 Bilangan Prima dalam Interval\n",
    "num =  int(input(\"Masukan bilangan : \"))\n",
    "# bilangan prima harus lebih besar dari 1\n",
    "\n",
    "if num > 1:\n",
    "    for i in range(2,num):\n",
    "        if(num % i) == 0:\n",
    "            print(num,\"bukan bilangan prima\")\n",
    "            break\n",
    "        else:\n",
    "            print(num,\"adalah bilangan prima\")\n",
    "            #bilangan kurang atau sama dengan satu\n",
    "else:\n",
    "    print(num,\"bukan bilangan prima\")"
   ]
  },
  {
   "cell_type": "code",
   "execution_count": 1,
   "metadata": {},
   "outputs": [],
   "source": [
    "awal = 11\n",
    "akhir = 25"
   ]
  },
  {
   "cell_type": "code",
   "execution_count": null,
   "metadata": {},
   "outputs": [],
   "source": [
    "for i in range(awal,akhir+1):\n",
    "    if i > 1:\n",
    "        for j in range(2,i):\n",
    "            if(i % j==0):\n",
    "                break    \n",
    "        else:\n",
    "            print(i)"
   ]
  },
  {
   "cell_type": "code",
   "execution_count": 21,
   "metadata": {
    "scrolled": true
   },
   "outputs": [],
   "source": [
    "kalimat = \"hello world\""
   ]
  },
  {
   "cell_type": "code",
   "execution_count": 22,
   "metadata": {},
   "outputs": [],
   "source": [
    "def HitungKalimat(kalimat):\n",
    "    jumlah = 0\n",
    "    for i in kalimat:\n",
    "        jumlah += 1\n",
    "    return jumlah"
   ]
  },
  {
   "cell_type": "code",
   "execution_count": 23,
   "metadata": {},
   "outputs": [
    {
     "name": "stdout",
     "output_type": "stream",
     "text": [
      "Terdapat 11 karakter\n"
     ]
    }
   ],
   "source": [
    "print(\"Terdapat\", HitungKalimat(kalimat), \"karakter\")"
   ]
  },
  {
   "cell_type": "code",
   "execution_count": 19,
   "metadata": {},
   "outputs": [],
   "source": [
    "kata1 = \"hello\"\n",
    "kata2 = \"world\""
   ]
  },
  {
   "cell_type": "code",
   "execution_count": 15,
   "metadata": {},
   "outputs": [
    {
     "name": "stdout",
     "output_type": "stream",
     "text": [
      "hello world\n"
     ]
    }
   ],
   "source": [
    "hasil = kata1 + \" \" +  kata2\n",
    "print(hasil)"
   ]
  }
 ],
 "metadata": {
  "kernelspec": {
   "display_name": "Python 3",
   "language": "python",
   "name": "python3"
  },
  "language_info": {
   "codemirror_mode": {
    "name": "ipython",
    "version": 3
   },
   "file_extension": ".py",
   "mimetype": "text/x-python",
   "name": "python",
   "nbconvert_exporter": "python",
   "pygments_lexer": "ipython3",
   "version": "3.7.3"
  }
 },
 "nbformat": 4,
 "nbformat_minor": 2
}
