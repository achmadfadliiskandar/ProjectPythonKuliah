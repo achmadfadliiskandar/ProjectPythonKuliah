{
 "cells": [
  {
   "cell_type": "markdown",
   "metadata": {},
   "source": [
    "# Object Detection with ImageAI\n",
    "---\n",
    "## Pengenalan\n",
    "Deteksi objek adalah teknologi yang berada di bawah domain Computer Vision yang lebih luas. Metode ini berkaitan dengan mengidentifikasi dan melacak objek yang ada dalam gambar dan video. Deteksi objek memiliki banyak aplikasi seperti deteksi wajah, deteksi kendaraan, penghitungan pejalan kaki, mobil tanpa pengemudi, sistem keamanan, dll.\n",
    "\n",
    "Dua tujuan utama deteksi objek meliputi:\n",
    "- Untuk mengidentifikasi semua objek yang ada dalam gambar\n",
    "- Penyaringan objek\n",
    "\n",
    "Pada materi kali ini, Anda akan melihat cara melakukan deteksi objek dengan Python dengan bantuan ImageAI.\n",
    "\n",
    "---\n",
    "## ImageAI\n",
    "ImageAI adalah library Python yang dibangun untuk membantu pengembang untuk membangun aplikasi dan sistem dengan self-contained deep learning dan kemampuan Computer Vision menggunakan beberapa baris kode secara langsung. ImageAI berisi implementasi Python dari hampir semua algoritme deep learning yang canggih seperti RetinaNet, YOLOv3, dan TinyYOLOv3.\n",
    "\n",
    "ImageAI menggunakan beberapa API yang bekerja secara offline - memiliki API deteksi objek, deteksi video, dan pelacakan objek yang dapat dipanggil tanpa akses internet. ImageAI menggunakan model yang telah dilatih sebelumnya dan dapat dengan mudah disesuaikan.\n",
    "\n",
    "Kelas `ObjectDetection` dari pustaka ImageAI berisi fungsi untuk melakukan deteksi objek pada gambar atau kumpulan gambar apa pun, menggunakan model terlatih. Dengan ImageAI, Anda dapat mendeteksi dan mengenali 80 jenis objek umum sehari-hari."
   ]
  },
  {
   "cell_type": "markdown",
   "metadata": {},
   "source": [
    "---\n",
    "### 1. Menyiapkan environment\n",
    "\n",
    "**TensorFlow**"
   ]
  },
  {
   "cell_type": "code",
   "execution_count": null,
   "metadata": {},
   "outputs": [],
   "source": [
    "pip install --upgrade https://storage.googleapis.com/tensorflow/mac/cpu/tensorflow-1.0.1-py2-none-any.whl "
   ]
  },
  {
   "cell_type": "markdown",
   "metadata": {},
   "source": [
    "**OpenCV**"
   ]
  },
  {
   "cell_type": "code",
   "execution_count": null,
   "metadata": {},
   "outputs": [],
   "source": [
    "pip install opencv-python"
   ]
  },
  {
   "cell_type": "markdown",
   "metadata": {},
   "source": [
    "**Keras**"
   ]
  },
  {
   "cell_type": "code",
   "execution_count": null,
   "metadata": {},
   "outputs": [],
   "source": [
    "pip install keras"
   ]
  },
  {
   "cell_type": "markdown",
   "metadata": {},
   "source": [
    "**ImageAI**"
   ]
  },
  {
   "cell_type": "code",
   "execution_count": null,
   "metadata": {},
   "outputs": [],
   "source": [
    "pip install imageAI"
   ]
  },
  {
   "cell_type": "markdown",
   "metadata": {},
   "source": [
    "**Trained Model**\n",
    "\n",
    "Sekarang unduh file model [TinyYOLOv3](https://gitlab.com/andreass.bayu/imageai-repo/-/releases/1.0) yang berisi model klasifikasi yang akan digunakan untuk deteksi objek."
   ]
  },
  {
   "cell_type": "markdown",
   "metadata": {},
   "source": [
    "---\n",
    "\n",
    "### 2. Import Package\n",
    "\n",
    "Impor kelas ObjectDetection dari library ImageAI."
   ]
  },
  {
   "cell_type": "code",
   "execution_count": null,
   "metadata": {},
   "outputs": [],
   "source": [
    "from imageai.Detection import ObjectDetection"
   ]
  },
  {
   "cell_type": "markdown",
   "metadata": {},
   "source": [
    "### 3. Buat instance dari class ObjectDetection\n",
    "Sekarang Anda telah mengimpor pustaka imageAI dan kelas `ObjectDetection`, hal berikutnya adalah membuat instance kelas `ObjectDetection`, seperti yang ditunjukkan di sini:"
   ]
  },
  {
   "cell_type": "code",
   "execution_count": null,
   "metadata": {},
   "outputs": [],
   "source": [
    "detector = ObjectDetection()"
   ]
  },
  {
   "cell_type": "markdown",
   "metadata": {},
   "source": [
    "### 4. Membuat spesifikasi lokasi gambar dan model\n",
    "\n",
    "Mari tentukan path atau lokasi dari gambar masukan, gambar keluaran, dan model kita."
   ]
  },
  {
   "cell_type": "code",
   "execution_count": null,
   "metadata": {},
   "outputs": [],
   "source": [
    "model_path = \"yolo-tiny.h5\"\n",
    "input_path = \"image-1.jpeg\"\n",
    "output_path = \"newimage.jpg\""
   ]
  },
  {
   "cell_type": "markdown",
   "metadata": {},
   "source": [
    "### 5. Pilih fungsi deteksi objek\n",
    "\n",
    "Setelah membuat instance kelas ObjectDetection, sekarang kita dapat memanggil berbagai fungsi dari kelas `ObjectDetection` yang berisi fungsi berikut untuk memanggil model terlatih: `setModelTypeAsRetinaNet()`, `setModelTypeAsYOLOv3()`, dan `setModelTypeAsTinyYOLOv3()`."
   ]
  },
  {
   "cell_type": "code",
   "execution_count": null,
   "metadata": {},
   "outputs": [],
   "source": [
    "detector.setModelTypeAsTinyYOLOv3()"
   ]
  },
  {
   "cell_type": "markdown",
   "metadata": {},
   "source": [
    "### 6. setModelPath()\n",
    "\n",
    "Selanjutnya, kita akan memanggil fungsi `setModelPath ()`. Fungsi ini menerima string yang berisi path atau lokasi ke model terlatih:"
   ]
  },
  {
   "cell_type": "code",
   "execution_count": null,
   "metadata": {},
   "outputs": [],
   "source": [
    "detector.setModelPath(model_path)"
   ]
  },
  {
   "cell_type": "markdown",
   "metadata": {},
   "source": [
    "### 7. Load Model\n",
    "\n",
    "Langkah ini memanggil fungsi `loadModel()` dari instance detektor yang memuat model dari lokasi yang ditentukan di atas menggunakan metode kelas `setModelPath()`."
   ]
  },
  {
   "cell_type": "code",
   "execution_count": null,
   "metadata": {},
   "outputs": [],
   "source": [
    "detector.loadModel()"
   ]
  },
  {
   "cell_type": "markdown",
   "metadata": {},
   "source": [
    "### 8. Deteksi Image\n",
    "\n",
    "Untuk mendeteksi objek dalam gambar, kita perlu memanggil fungsi `detectObjectsFromImage` menggunakan objek detektor yang kita buat di bagian sebelumnya.\n",
    "\n",
    "Fungsi ini membutuhkan dua argumen: `input_image` dan `output_image_path`. `input_image` adalah lokasi tempat gambar yang kita deteksi berada, sedangkan parameter `output_image_path` adalah lokasi untuk menyimpan gambar dengan objek yang terdeteksi. Fungsi ini mengembalikan dictionary (array) yang berisi nama dan persentase probabilitas dari semua objek yang terdeteksi dalam gambar."
   ]
  },
  {
   "cell_type": "code",
   "execution_count": null,
   "metadata": {},
   "outputs": [],
   "source": [
    "detection = detector.detectObjectsFromImage(input_image=input_path, output_image_path=output_path)"
   ]
  },
  {
   "cell_type": "markdown",
   "metadata": {},
   "source": [
    "### 9. Cek Output\n",
    "\n",
    "Dictionary (array) dapat diakses dengan menelusuri setiap item dalam data tersebut."
   ]
  },
  {
   "cell_type": "code",
   "execution_count": null,
   "metadata": {},
   "outputs": [],
   "source": [
    "for eachItem in detection:\n",
    "    print(eachItem[\"name\"] , \" : \", eachItem[\"percentage_probability\"])"
   ]
  },
  {
   "cell_type": "markdown",
   "metadata": {},
   "source": [
    "### 10. Liat Hasilnya"
   ]
  },
  {
   "cell_type": "code",
   "execution_count": null,
   "metadata": {},
   "outputs": [],
   "source": [
    "from IPython.display import Image\n",
    "Image(filename='newimage.jpg') "
   ]
  },
  {
   "cell_type": "code",
   "execution_count": null,
   "metadata": {},
   "outputs": [],
   "source": []
  },
  {
   "cell_type": "code",
   "execution_count": null,
   "metadata": {},
   "outputs": [],
   "source": []
  },
  {
   "cell_type": "code",
   "execution_count": null,
   "metadata": {},
   "outputs": [],
   "source": []
  },
  {
   "cell_type": "code",
   "execution_count": null,
   "metadata": {},
   "outputs": [],
   "source": []
  },
  {
   "cell_type": "code",
   "execution_count": null,
   "metadata": {},
   "outputs": [],
   "source": []
  },
  {
   "cell_type": "code",
   "execution_count": null,
   "metadata": {},
   "outputs": [],
   "source": []
  },
  {
   "cell_type": "code",
   "execution_count": null,
   "metadata": {},
   "outputs": [],
   "source": []
  }
 ],
 "metadata": {
  "kernelspec": {
   "display_name": "Python 3",
   "language": "python",
   "name": "python3"
  },
  "language_info": {
   "codemirror_mode": {
    "name": "ipython",
    "version": 3
   },
   "file_extension": ".py",
   "mimetype": "text/x-python",
   "name": "python",
   "nbconvert_exporter": "python",
   "pygments_lexer": "ipython3",
   "version": "3.7.3"
  }
 },
 "nbformat": 4,
 "nbformat_minor": 4
}
